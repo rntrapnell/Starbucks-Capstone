{
 "cells": [
  {
   "cell_type": "markdown",
   "metadata": {},
   "source": [
    "# Starbucks Capstone Challenge\n",
    "\n",
    "### Introduction\n",
    "\n",
    "This data set contains simulated data that mimics customer behavior on the Starbucks rewards mobile app. Once every few days, Starbucks sends out an offer to users of the mobile app. An offer can be merely an advertisement for a drink or an actual offer such as a discount or BOGO (buy one get one free). Some users might not receive any offer during certain weeks. \n",
    "\n",
    "Not all users receive the same offer, and that is the challenge to solve with this data set.\n",
    "\n",
    "Your task is to combine transaction, demographic and offer data to determine which demographic groups respond best to which offer type. This data set is a simplified version of the real Starbucks app because the underlying simulator only has one product whereas Starbucks actually sells dozens of products.\n",
    "\n",
    "Every offer has a validity period before the offer expires. As an example, a BOGO offer might be valid for only 5 days. You'll see in the data set that informational offers have a validity period even though these ads are merely providing information about a product; for example, if an informational offer has 7 days of validity, you can assume the customer is feeling the influence of the offer for 7 days after receiving the advertisement.\n",
    "\n",
    "You'll be given transactional data showing user purchases made on the app including the timestamp of purchase and the amount of money spent on a purchase. This transactional data also has a record for each offer that a user receives as well as a record for when a user actually views the offer. There are also records for when a user completes an offer. \n",
    "\n",
    "Keep in mind as well that someone using the app might make a purchase through the app without having received an offer or seen an offer.\n",
    "\n",
    "### Example\n",
    "\n",
    "To give an example, a user could receive a discount offer buy 10 dollars get 2 off on Monday. The offer is valid for 10 days from receipt. If the customer accumulates at least 10 dollars in purchases during the validity period, the customer completes the offer.\n",
    "\n",
    "However, there are a few things to watch out for in this data set. Customers do not opt into the offers that they receive; in other words, a user can receive an offer, never actually view the offer, and still complete the offer. For example, a user might receive the \"buy 10 dollars get 2 dollars off offer\", but the user never opens the offer during the 10 day validity period. The customer spends 15 dollars during those ten days. There will be an offer completion record in the data set; however, the customer was not influenced by the offer because the customer never viewed the offer.\n",
    "\n",
    "### Cleaning\n",
    "\n",
    "This makes data cleaning especially important and tricky.\n",
    "\n",
    "You'll also want to take into account that some demographic groups will make purchases even if they don't receive an offer. From a business perspective, if a customer is going to make a 10 dollar purchase without an offer anyway, you wouldn't want to send a buy 10 dollars get 2 dollars off offer. You'll want to try to assess what a certain demographic group will buy when not receiving any offers.\n",
    "\n",
    "### Final Advice\n",
    "\n",
    "Because this is a capstone project, you are free to analyze the data any way you see fit. For example, you could build a machine learning model that predicts how much someone will spend based on demographics and offer type. Or you could build a model that predicts whether or not someone will respond to an offer. Or, you don't need to build a machine learning model at all. You could develop a set of heuristics that determine what offer you should send to each customer (i.e., 75 percent of women customers who were 35 years old responded to offer A vs 40 percent from the same demographic to offer B, so send offer A)."
   ]
  },
  {
   "cell_type": "markdown",
   "metadata": {},
   "source": [
    "# Data Sets\n",
    "\n",
    "The data is contained in three files:\n",
    "\n",
    "* portfolio.json - containing offer ids and meta data about each offer (duration, type, etc.)\n",
    "* profile.json - demographic data for each customer\n",
    "* transcript.json - records for transactions, offers received, offers viewed, and offers completed\n",
    "\n",
    "Here is the schema and explanation of each variable in the files:\n",
    "\n",
    "**portfolio.json**\n",
    "* id (string) - offer id\n",
    "* offer_type (string) - type of offer ie BOGO, discount, informational\n",
    "* difficulty (int) - minimum required spend to complete an offer\n",
    "* reward (int) - reward given for completing an offer\n",
    "* duration (int) - time for offer to be open, in days\n",
    "* channels (list of strings)\n",
    "\n",
    "**profile.json**\n",
    "* age (int) - age of the customer \n",
    "* became_member_on (int) - date when customer created an app account\n",
    "* gender (str) - gender of the customer (note some entries contain 'O' for other rather than M or F)\n",
    "* id (str) - customer id\n",
    "* income (float) - customer's income\n",
    "\n",
    "**transcript.json**\n",
    "* event (str) - record description (ie transaction, offer received, offer viewed, etc.)\n",
    "* person (str) - customer id\n",
    "* time (int) - time in hours since start of test. The data begins at time t=0\n",
    "* value - (dict of strings) - either an offer id or transaction amount depending on the record\n",
    "\n",
    "**Note:** If you are using the workspace, you will need to go to the terminal and run the command `conda update pandas` before reading in the files. This is because the version of pandas in the workspace cannot read in the transcript.json file correctly, but the newest version of pandas can. You can access the termnal from the orange icon in the top left of this notebook.  \n",
    "\n",
    "You can see how to access the terminal and how the install works using the two images below.  First you need to access the terminal:\n",
    "\n",
    "<img src=\"pic1.png\"/>\n",
    "\n",
    "Then you will want to run the above command:\n",
    "\n",
    "<img src=\"pic2.png\"/>\n",
    "\n",
    "Finally, when you enter back into the notebook (use the jupyter icon again), you should be able to run the below cell without any errors."
   ]
  },
  {
   "cell_type": "code",
   "execution_count": 1,
   "metadata": {},
   "outputs": [
    {
     "name": "stderr",
     "output_type": "stream",
     "text": [
      "/opt/conda/lib/python3.6/site-packages/sklearn/cross_validation.py:41: DeprecationWarning: This module was deprecated in version 0.18 in favor of the model_selection module into which all the refactored classes and functions are moved. Also note that the interface of the new CV iterators are different from that of this module. This module will be removed in 0.20.\n",
      "  \"This module will be removed in 0.20.\", DeprecationWarning)\n"
     ]
    }
   ],
   "source": [
    "import pandas as pd\n",
    "import numpy as np\n",
    "import math\n",
    "import json\n",
    "from datetime import datetime\n",
    "from sklearn.preprocessing import StandardScaler\n",
    "from sklearn.cross_validation import train_test_split\n",
    "from sklearn.metrics import classification_report\n",
    "from sklearn.dummy import DummyClassifier\n",
    "from sklearn.ensemble import RandomForestClassifier\n",
    "from sklearn.metrics import fbeta_score, make_scorer\n",
    "from matplotlib import pyplot as plt\n",
    "% matplotlib inline\n",
    "\n",
    "# read in the json files\n",
    "portfolio = pd.read_json('data/portfolio.json', orient='records', lines=True)\n",
    "profile = pd.read_json('data/profile.json', orient='records', lines=True)\n",
    "transcript = pd.read_json('data/transcript.json', orient='records', lines=True)"
   ]
  },
  {
   "cell_type": "code",
   "execution_count": 45,
   "metadata": {},
   "outputs": [],
   "source": [
    "#A set of labels to help us order and identify offers when making predictions\n",
    "offer_labels = {'9b98b8c7a33c4b65b9aebfe6a799e6d9' : ['Bogo 5',0], \n",
    "                'f19421c1d4aa40978ebb69ca19b0e20d' : ['Bogo 5',1], \n",
    "                '4d5c57ea9a6940dd891ad53e9dbe8da0' : ['Bogo 10',0],\n",
    "                'ae264e3637204a6fb9bb56bc8210ddfd' : ['Bogo 10',1],\n",
    "                '2298d6c36e964ae4a3e7e9706d1fb8c2' : ['Disc 7',0], \n",
    "                '2906b810c7d4411798c6938adc9daaa5' : ['Disc 10',0],\n",
    "                'fafdcd668e3743c1bb461111dcafc2a4' : ['Disc 10',1], \n",
    "                '0b1e1539f2cc45b7b9fa7c272da2e1d7' : ['Disc 20',0],\n",
    "                '3f207df678b143eea3cee63160fa8bed' : ['Info',0],\n",
    "                '5a8bc65990b245e5a138643cd4eb9837' : ['Info',1]\n",
    "               }"
   ]
  },
  {
   "cell_type": "code",
   "execution_count": 3,
   "metadata": {},
   "outputs": [],
   "source": [
    "def expand_transcript(transcript = transcript):\n",
    "    '''\n",
    "    Unpacks the dictionary in the 'value' column of the transcript and combines values from 'offer_id' and 'offer id' keys.\n",
    "    \n",
    "    input\n",
    "    transcript- the transcript file from transcript.json\n",
    "    \n",
    "    output\n",
    "    expanded_transcript- the transcript with columns added the unpack the dictionary in the 'values' column\n",
    "    \n",
    "    '''\n",
    "    new_columns = pd.DataFrame(transcript['value'].apply(pd.Series))\n",
    "    new_columns['offer id'].fillna(new_columns['offer_id'], inplace = True)\n",
    "    new_columns.drop(columns='offer_id', inplace = True)\n",
    "    expanded_transcript = pd.concat([transcript, new_columns], axis =1)\n",
    "    return (expanded_transcript)\n",
    "expanded_transcript = expand_transcript()"
   ]
  },
  {
   "cell_type": "code",
   "execution_count": 5,
   "metadata": {},
   "outputs": [
    {
     "name": "stderr",
     "output_type": "stream",
     "text": [
      "/opt/conda/lib/python3.6/site-packages/ipykernel_launcher.py:2: UserWarning: Boolean Series key will be reindexed to match DataFrame index.\n",
      "  \n"
     ]
    },
    {
     "data": {
      "text/plain": [
       "Text(0,0.5,'Number of offers')"
      ]
     },
     "execution_count": 5,
     "metadata": {},
     "output_type": "execute_result"
    },
    {
     "data": {
      "image/png": "[encoded data removed]",
      "text/plain": [
       "<matplotlib.figure.Figure at 0x7f98e743cd68>"
      ]
     },
     "metadata": {
      "needs_background": "light"
     },
     "output_type": "display_data"
    }
   ],
   "source": [
    "\n",
    "offer_times =expanded_transcript[expanded_transcript['offer id'] == 'ae264e3637204a6fb9bb56bc8210ddfd'][expanded_transcript['event'] == 'offer received']['time'].value_counts()\n",
    "plt.bar(offer_times.index, offer_times.values, 25)\n",
    "plt.xlabel('Time')\n",
    "plt.ylabel('Number of offers')"
   ]
  },
  {
   "cell_type": "code",
   "execution_count": 6,
   "metadata": {},
   "outputs": [],
   "source": [
    "def create_offer_combo_count(expanded_transcript=expanded_transcript):\n",
    "    '''Create a count of unique offerings to the customers with respect to what offers, how many and what order\n",
    "    \n",
    "    input\n",
    "    \n",
    "    expanded transcript- the expanded transcript that includes an offer id column\n",
    "    \n",
    "    output\n",
    "    \n",
    "    len(unique_offer_combos) - the total number of unique offerings given to customers\n",
    "    '''\n",
    "    offer_letters = {'9b98b8c7a33c4b65b9aebfe6a799e6d9' : 'a', \n",
    "                'f19421c1d4aa40978ebb69ca19b0e20d' : 'b', \n",
    "                '4d5c57ea9a6940dd891ad53e9dbe8da0' : 'c',\n",
    "                'ae264e3637204a6fb9bb56bc8210ddfd' : 'd',\n",
    "                '2298d6c36e964ae4a3e7e9706d1fb8c2' : 'e', \n",
    "                '2906b810c7d4411798c6938adc9daaa5' : 'f',\n",
    "                'fafdcd668e3743c1bb461111dcafc2a4' : 'g', \n",
    "                '0b1e1539f2cc45b7b9fa7c272da2e1d7' : 'h',\n",
    "                '3f207df678b143eea3cee63160fa8bed' : 'i',\n",
    "                '5a8bc65990b245e5a138643cd4eb9837' : 'j'\n",
    "               }\n",
    "    g =expanded_transcript[expanded_transcript['offer id'] == 'ae264e3637204a6fb9bb56bc8210ddfd'][expanded_transcript['event'] == 'offer received']['time'].value_counts()\n",
    "\n",
    "    unique_offer_combos= []\n",
    "    for customer in profile['id']:\n",
    "        everything = expanded_transcript[expanded_transcript['person'] == customer]\n",
    "        received = everything[everything['event'] == 'offer received']\n",
    "        he = ''\n",
    "        for window in np.sort(g.index.values):\n",
    "            if window in received['time'].values:\n",
    "                eyed_e = received[received['time'] == window]['offer id'].values[0]\n",
    "                he += offer_letters[eyed_e]\n",
    "            else:\n",
    "                he += '-'\n",
    "        if he not in unique_offer_combos:\n",
    "            unique_offer_combos.append(he)\n",
    "    return (len(unique_offer_combos))"
   ]
  },
  {
   "cell_type": "code",
   "execution_count": 7,
   "metadata": {},
   "outputs": [
    {
     "name": "stderr",
     "output_type": "stream",
     "text": [
      "/opt/conda/lib/python3.6/site-packages/ipykernel_launcher.py:23: UserWarning: Boolean Series key will be reindexed to match DataFrame index.\n"
     ]
    }
   ],
   "source": [
    "unique_offer_combos = create_offer_combo_count()"
   ]
  },
  {
   "cell_type": "code",
   "execution_count": 9,
   "metadata": {},
   "outputs": [
    {
     "data": {
      "text/plain": [
       "<Container object of 2 artists>"
      ]
     },
     "execution_count": 9,
     "metadata": {},
     "output_type": "execute_result"
    },
    {
     "data": {
      "image/png": "[encoded data removed]",
      "text/plain": [
       "<matplotlib.figure.Figure at 0x7f98e723a438>"
      ]
     },
     "metadata": {
      "needs_background": "light"
     },
     "output_type": "display_data"
    }
   ],
   "source": [
    "plt.bar(['unique offer combos', 'unique customers'],[unique_offer_combos, len(profile)])"
   ]
  },
  {
   "cell_type": "code",
   "execution_count": 4,
   "metadata": {},
   "outputs": [],
   "source": [
    "def make_completion_rows(transcript, info_trans):\n",
    "    \n",
    "    '''\n",
    "    Takes information about whether a customer completed a transaction during an informational offer and makes a\n",
    "    completion row if they did. Usually run conditionally within create_offered_unoffered_dicts because that function creates\n",
    "    variables needed for this function.\n",
    "    \n",
    "    input \n",
    "    transcript- a copy of the transcript to add rows to. Typically this is the expanded transcript that is being used by \n",
    "            create_offered_unoffered_dicts\n",
    "    info_trans - a list of dictionaries containing the offer id as key, the start and end dates of the offer and index locations\n",
    "        for all customer transactions in the offer period\n",
    "        \n",
    "    output\n",
    "    transcript - the transcript inputed with the completion rows added\n",
    "            \n",
    "    '''\n",
    "    count = 0\n",
    "    while len(info_trans) >count:\n",
    "        info_dict = info_trans[count]\n",
    "        offer_id = list(info_trans[count])[0]#info_trans[0].keys().tolist()\n",
    "        offer_end = info_dict[offer_id][0][1]\n",
    "        index = info_dict[offer_id][1]\n",
    "            \n",
    "        \n",
    "        if len(index) >0:\n",
    "            new_idx = float(index[0]) +.1\n",
    "\n",
    "            transcript.loc[new_idx] = ['offer completed', transcript.loc[index[0]]['person'], offer_end, [{'offer id' : offer_id, 'reward': 0}], offer_id,np.nan, np.nan]\n",
    "        else:\n",
    "            pass\n",
    "        count += 1\n",
    "    return (transcript)"
   ]
  },
  {
   "cell_type": "code",
   "execution_count": 5,
   "metadata": {},
   "outputs": [],
   "source": [
    "def create_offered_unoffered_dicts(customer, transcript=expanded_transcript):\n",
    "    \n",
    "    '''\n",
    "    Creates the info that fills offered_dict and unoffered_dict, namely offer start and end dates as well as index locations\n",
    "    for transactions in each appropriate category.\n",
    "    \n",
    "    inputs\n",
    "    \n",
    "    customer- id for the customer. This typically comes from a for loop that goes through every customer in the record.\n",
    "    transcript- a copy of the transcript, typically the expanded transcript since we do a lot of searching by offer id\n",
    "    \n",
    "    outputs\n",
    "    \n",
    "    offered_customer_dict - a dictionary with offer ids as keys and offer start and end dates as well as index locations for \n",
    "    transactions in the offer period\n",
    "    \n",
    "    unoffered_list- a list of indexes of transactions that fall outside an offer period\n",
    "    \n",
    "    transcript - the transcript with all of the added rows from make_completion_rows, usually saved as added_transcript\n",
    "    '''\n",
    "    \n",
    "    info_only_ids = portfolio[portfolio['offer_type'] == 'informational']\n",
    "    \n",
    "    unoffered_list = []\n",
    "    offered_list = []\n",
    "    offered_customer_dict = {}\n",
    "    everything = transcript[transcript['person'] == customer]\n",
    "    transactions = everything[everything['event'] == 'transaction']\n",
    "        \n",
    "    transaction_times = transactions['time']\n",
    "    completions = everything[everything['event'] == 'offer completed']\n",
    "    completion_times = completions['time']   \n",
    "        \n",
    "    received = everything[everything['event'] == 'offer received']\n",
    "        \n",
    "    received_info = received[received['offer id'].isin(info_only_ids['id'].values)]   \n",
    "        \n",
    "    info_trans = []\n",
    "    for receipt in received.iterrows():\n",
    "            \n",
    "        iloc = receipt[0]\n",
    "        offer_id = receipt[1]['offer id']\n",
    "            \n",
    "        offer_row = portfolio[portfolio['id'] == offer_id]\n",
    "                \n",
    "        offer_length = offer_row['duration']\n",
    "        offer_hours = 24*offer_length\n",
    "        offer_start = received.loc[iloc]['time']\n",
    "        offer_end= offer_start+ offer_hours\n",
    "        offer_end = offer_end.values[0]\n",
    "        completions = completion_times.where(everything['time'].isin(np.arange(offer_start, offer_end+1))).dropna().index\n",
    "        if len(completions) > 0:\n",
    "            offer_end = everything.loc[completions[0]]['time']\n",
    "        influenced = transaction_times.where(everything['time'].isin(np.arange(offer_start, offer_end+1))).dropna().index\n",
    "            \n",
    "        if offer_id in info_only_ids['id'].values:\n",
    "            influenced_dict = {offer_id: ((offer_start, offer_end),influenced)}\n",
    "            info_trans.append(influenced_dict)\n",
    "            transcript = make_completion_rows(transcript, info_trans)    \n",
    "                \n",
    "                \n",
    "        offered_customer_dict[offer_id] = ((offer_start, offer_end),influenced)\n",
    "        transaction_times.drop(influenced)       \n",
    "        \n",
    "    unoffered_list.append(transaction_times.index)\n",
    "             \n",
    "        \n",
    "    return (offered_customer_dict, unoffered_list, transcript)"
   ]
  },
  {
   "cell_type": "code",
   "execution_count": 6,
   "metadata": {},
   "outputs": [],
   "source": [
    "offered_dict = {}\n",
    "unoffered_dict = {}\n",
    "for customer in transcript['person'].unique():\n",
    "    \n",
    "    offered_customer_dict, unoffered_list, added_transcript = create_offered_unoffered_dicts(customer)\n",
    "    offered_dict[customer] = offered_customer_dict\n",
    "    unoffered_dict[customer] = unoffered_list"
   ]
  },
  {
   "cell_type": "code",
   "execution_count": 8,
   "metadata": {},
   "outputs": [],
   "source": [
    "added_transcript.to_csv('added_transcript_save', index = False)"
   ]
  },
  {
   "cell_type": "code",
   "execution_count": 9,
   "metadata": {},
   "outputs": [],
   "source": [
    "np.save('uo_dict.npy', unoffered_dict)\n",
    "np.save('o_dict.npy', offered_dict)"
   ]
  },
  {
   "cell_type": "code",
   "execution_count": 10,
   "metadata": {},
   "outputs": [],
   "source": [
    "unoffered_dict = np.load('uo_dict.npy').item()\n",
    "offered_dict = np.load('o_dict.npy').item()"
   ]
  },
  {
   "cell_type": "code",
   "execution_count": 75,
   "metadata": {},
   "outputs": [],
   "source": [
    "added_transcript = pd.read_csv('added_transcript_save')"
   ]
  },
  {
   "cell_type": "code",
   "execution_count": 157,
   "metadata": {},
   "outputs": [],
   "source": [
    "def create_timings(expanded_transcript=added_transcript):\n",
    "    '''\n",
    "    Reshape the exapanded transcript.\n",
    "    \n",
    "    input\n",
    "    expanded_transcript- the transcript file (with modifications) to be transformed\n",
    "    \n",
    "    output\n",
    "    timings - reshaped transcript with multiindex of customer id, offer id and the times for offer recieved, offer viewed,\n",
    "    and offer completed \n",
    "    '''\n",
    "\n",
    "    timings = pd.pivot_table(expanded_transcript, values = 'time', index = ['person', 'offer id'], columns = 'event', aggfunc = pd.Series.tolist)\n",
    "    return (timings, expanded_transcript)\n",
    "\n",
    "timings, expanded_transcript = create_timings()\n"
   ]
  },
  {
   "cell_type": "code",
   "execution_count": 158,
   "metadata": {},
   "outputs": [],
   "source": [
    "def create_rewards_column(timings=timings):\n",
    "    '''\n",
    "    Add a 'rewards' column to the 'timings' DataFrame\n",
    "    \n",
    "    input \n",
    "    timings- the timings DataFrame created from the transcript\n",
    "    \n",
    "    output\n",
    "    rewards_list = a list designed to be used as a new column in timings\n",
    "    '''\n",
    "    rewards_dict = {}\n",
    "    for i in np.arange(len(portfolio)):\n",
    "        rewards_dict[portfolio['id'][i]] = portfolio['reward'][i]\n",
    "    rewards_list = []\n",
    "    #for id in master_list.reset_index()['level_1']:\n",
    "    for id in timings.reset_index()['offer id']:\n",
    "        rewards_list.append(rewards_dict[id])\n",
    "    return (rewards_list)\n",
    "timings['reward'] = create_rewards_column()    "
   ]
  },
  {
   "cell_type": "code",
   "execution_count": 128,
   "metadata": {},
   "outputs": [],
   "source": [
    "def check_views_completions(customer_offer_pair):\n",
    "    #No view or completion should be yes?\n",
    "    '''\n",
    "    Checks the timings for each pairing of customer and offer and returns an integer to be used by make_decision\n",
    "    \n",
    "    input\n",
    "    customer_offer_pair - info from a row of the DataFrame used by make_decision\n",
    "    \n",
    "    output\n",
    "    int - used by make_decision for making a decision\n",
    "    '''\n",
    "    try:\n",
    "        z = customer_offer_pair[1]['offer viewed'][0] - customer_offer_pair[1]['offer completed'][0]\n",
    "    except:\n",
    "        z = np.nan\n",
    "    #print (z)\n",
    "    if type(customer_offer_pair[1]['offer completed']) == float:\n",
    "        if np.isnan(customer_offer_pair[1]['offer completed']):\n",
    "            return (0)\n",
    "        else:\n",
    "            print ('non-nan float')\n",
    "    elif type(customer_offer_pair[1]['offer viewed']) == float:\n",
    "        if np.isnan(customer_offer_pair[1]['offer viewed']):\n",
    "            return (-1)\n",
    "        else:\n",
    "            print ('non-nan float')\n",
    "    elif len(customer_offer_pair[1]['offer completed']) > len(customer_offer_pair[1]['offer viewed']):\n",
    "        return (-1)\n",
    "    elif customer_offer_pair[1]['offer viewed'][0] > customer_offer_pair[1]['offer completed'][0]:\n",
    "        return (-1)\n",
    "    elif len(customer_offer_pair[1]['offer viewed']) > 1:\n",
    "        if len(customer_offer_pair[1]['offer completed']) >1:\n",
    "            if customer_offer_pair[1]['offer viewed'][1] > customer_offer_pair[1]['offer completed'][1]:\n",
    "                return (-1)\n",
    "            else:\n",
    "                pass\n",
    "        else:\n",
    "            pass\n",
    "    elif len(customer_offer_pair[1]['offer viewed']) == 3:\n",
    "        if len(customer_offer_pair[1]['offer completed']) ==3:\n",
    "            if customer_offer_pair[1]['offer viewed'][2] > customer_offer_pair[1]['offer completed'][2]:\n",
    "                return (-1)\n",
    "            else:\n",
    "                pass\n",
    "        else:\n",
    "            pass\n",
    "    else:\n",
    "        return(0)\n",
    "    "
   ]
  },
  {
   "cell_type": "code",
   "execution_count": 5,
   "metadata": {},
   "outputs": [],
   "source": [
    "id_clusters = pd.read_csv('id_clusters.csv')\n",
    "influencers = pd.read_csv('influencers.csv')"
   ]
  },
  {
   "cell_type": "code",
   "execution_count": 14,
   "metadata": {},
   "outputs": [],
   "source": [
    "id_clusters.set_index('id', inplace =True)"
   ]
  },
  {
   "cell_type": "code",
   "execution_count": 25,
   "metadata": {},
   "outputs": [],
   "source": [
    "influencers.fillna(0, inplace = True)"
   ]
  },
  {
   "cell_type": "code",
   "execution_count": 36,
   "metadata": {},
   "outputs": [],
   "source": [
    "def get_prophet_values(customer, offer):\n",
    "    if customer in id_clusters.index:\n",
    "        cluster = id_clusters.loc[customer].values[0]\n",
    "        influence_float = influencers.loc[cluster][offer]\n",
    "    else:\n",
    "        influence_float = 0\n",
    "    return (influence_float)"
   ]
  },
  {
   "cell_type": "code",
   "execution_count": 159,
   "metadata": {},
   "outputs": [],
   "source": [
    "def make_decision(master_list):\n",
    "    '''\n",
    "    Use the the check_views_completions and value_calculation functions to make a decision on whether a customer should \n",
    "    recieve a particular offer.\n",
    "    \n",
    "    input\n",
    "    master_list- the master file created from the transcript (includes timings and rewards)\n",
    "    \n",
    "    output\n",
    "    decision- a list of 'Yes'/'No' decisions to form a column in master_list\n",
    "    '''\n",
    "    decision = []\n",
    "    for customer_offer_pair in master_list.iterrows():\n",
    "        #print (customer_offer_pair)\n",
    "        customer_id = customer_offer_pair[0][0]\n",
    "        offer_id = customer_offer_pair[0][1]\n",
    "        reward_amt = customer_offer_pair[1]['reward']\n",
    "        if check_views_completions(customer_offer_pair) == -1:\n",
    "                decision.append('No')\n",
    "        elif get_prophet_values(customer_id, offer_id) < 0:\n",
    "            decision.append('No')\n",
    "        elif get_prophet_values(customer_id, offer_id) > 0:\n",
    "            decision.append('Yes')\n",
    "        else:\n",
    "            decision.append(np.nan)\n",
    "    return(decision)\n",
    "timings['decision']  =make_decision(timings)"
   ]
  },
  {
   "cell_type": "code",
   "execution_count": 160,
   "metadata": {},
   "outputs": [],
   "source": [
    "timings.to_csv('timings_save')"
   ]
  },
  {
   "cell_type": "code",
   "execution_count": 161,
   "metadata": {},
   "outputs": [],
   "source": [
    "timings =  pd.read_csv('timings_save')"
   ]
  },
  {
   "cell_type": "code",
   "execution_count": 81,
   "metadata": {},
   "outputs": [],
   "source": [
    "def convert_date(num):\n",
    "    '''\n",
    "    Take a date in format YYYYMMDD and convert it into the number of days from that date to the day after the last signup.\n",
    "    \n",
    "    input\n",
    "    num - the YYYYMMDD date from the profile\n",
    "    \n",
    "    output\n",
    "    diff.days - the differnce between the \"current\" date (day after last signup) and the date inputed, converted to days. \n",
    "    \n",
    "    '''\n",
    "    date = datetime.strptime(str(num), '%Y%m%d')\n",
    "    #day after last sign up in profile\n",
    "    start_date = datetime.strptime(str(20180727), '%Y%m%d')\n",
    "    diff = start_date -date #date.days()\n",
    "    return (diff.days)"
   ]
  },
  {
   "cell_type": "code",
   "execution_count": 162,
   "metadata": {},
   "outputs": [],
   "source": [
    "def clean_profile_and_timings(profile=profile, timings = timings):\n",
    "    '''\n",
    "    Remove NaN rows from the profile and remove related entries from the master\n",
    "    \n",
    "    inputs\n",
    "    profile- the original unaltered profile\n",
    "    master- the master file created from the transcript (includes timings, rewards and decision)\n",
    "    \n",
    "    outputs\n",
    "    cleaned_profile - profile with NaNs removed\n",
    "    cleaned_master- master with customers not in cleaned_profile removed\n",
    "    '''\n",
    "    cleaned_profile = profile.dropna()\n",
    "    drop = profile[profile['age']== 118]['id']\n",
    "    cleaned_timings = timings\n",
    "    for user_id in drop:\n",
    "        cleaned_timings = cleaned_timings[cleaned_timings['person'] != user_id]\n",
    "    \n",
    "    \n",
    "    \n",
    "    return (cleaned_profile, cleaned_timings)\n",
    "cleaned_profile, cleaned_timings = clean_profile_and_timings()"
   ]
  },
  {
   "cell_type": "code",
   "execution_count": 165,
   "metadata": {},
   "outputs": [
    {
     "name": "stderr",
     "output_type": "stream",
     "text": [
      "/opt/conda/lib/python3.6/site-packages/ipykernel_launcher.py:10: SettingWithCopyWarning: \n",
      "A value is trying to be set on a copy of a slice from a DataFrame.\n",
      "Try using .loc[row_indexer,col_indexer] = value instead\n",
      "\n",
      "See the caveats in the documentation: http://pandas.pydata.org/pandas-docs/stable/indexing.html#indexing-view-versus-copy\n",
      "  # Remove the CWD from sys.path while we load stuff.\n"
     ]
    }
   ],
   "source": [
    "def preprocess_profile(profile = profile):\n",
    "    '''Run preprocessing on the profile.\n",
    "    \n",
    "    input\n",
    "    profile- a version of the profile (normally cleaned_profile from clean_profile_and_master)\n",
    "    \n",
    "    output\n",
    "    preprocessed_profile - profile after preprocessing(convert_date, scaling, and one-hot encoding)\n",
    "    '''\n",
    "    profile['days_member'] = profile['became_member_on'].apply(convert_date)\n",
    "    preprocessed_profile = profile.drop(columns='became_member_on')\n",
    "    #scaler = StandardScaler() \n",
    "    num = ['age', 'income', 'days_member']\n",
    "\n",
    "    #preprocessed_profile[num] = scaler.fit_transform(preprocessed_profile[num])\n",
    "    preprocessed_profile.set_index('id', inplace = True)\n",
    "    preprocessed_profile = pd.get_dummies(preprocessed_profile)\n",
    "    return(preprocessed_profile)\n",
    "preprocessed_profile = preprocess_profile(cleaned_profile)"
   ]
  },
  {
   "cell_type": "code",
   "execution_count": 43,
   "metadata": {},
   "outputs": [],
   "source": [
    "from sklearn.metrics import precision_score\n",
    "from sklearn.metrics import accuracy_score\n",
    "clf =  RandomForestClassifier()\n",
    "clf_2 = DummyClassifier()"
   ]
  },
  {
   "cell_type": "code",
   "execution_count": 169,
   "metadata": {},
   "outputs": [],
   "source": [
    "cleaned_timings.dropna(subset = ['decision'], inplace = True)"
   ]
  },
  {
   "cell_type": "code",
   "execution_count": 135,
   "metadata": {},
   "outputs": [],
   "source": [
    "log = pd.read_csv('log')\n",
    "log.set_index('Unnamed: 0', inplace = True)"
   ]
  },
  {
   "cell_type": "code",
   "execution_count": 216,
   "metadata": {},
   "outputs": [],
   "source": [
    "from sklearn.pipeline import Pipeline\n",
    "from sklearn.neural_network import MLPClassifier\n",
    "pipeline = Pipeline([\n",
    "            ('scale', StandardScaler() ),\n",
    "            ('clf', RandomForestClassifier())\n",
    "        ])"
   ]
  },
  {
   "cell_type": "code",
   "execution_count": 197,
   "metadata": {},
   "outputs": [],
   "source": [
    "parameters = {\n",
    "        'clf__max_depth': [25, 50, 75, 100, None],\n",
    "        'clf__min_samples_leaf': [1, 2,5, 10],\n",
    "        'clf__min_samples_split': [2, 3, 10, 25]\n",
    "    }\n",
    "\n",
    "\n",
    "fb_scorer = make_scorer(fbeta_score, pos_label ='Yes' , beta=0.5)\n",
    "\n",
    "from sklearn.model_selection import GridSearchCV\n",
    "from sklearn.svm import LinearSVC\n",
    "cv = GridSearchCV(pipeline, param_grid=parameters,\n",
    "                    scoring=fb_scorer)"
   ]
  },
  {
   "cell_type": "code",
   "execution_count": 217,
   "metadata": {
    "scrolled": true
   },
   "outputs": [
    {
     "name": "stdout",
     "output_type": "stream",
     "text": [
      "RandomForest for Bogo 5 #0:\n",
      "             precision    recall  f1-score   support\n",
      "\n",
      "         No       0.84      0.90      0.87      1005\n",
      "        Yes       0.66      0.52      0.58       358\n",
      "\n",
      "avg / total       0.79      0.80      0.80      1363\n",
      "\n",
      "RandomForest for Bogo 5 #1:\n",
      "             precision    recall  f1-score   support\n",
      "\n",
      "         No       0.94      0.98      0.96      1151\n",
      "        Yes       0.86      0.68      0.76       211\n",
      "\n",
      "avg / total       0.93      0.93      0.93      1362\n",
      "\n",
      "RandomForest for Bogo 10 #0:\n",
      "             precision    recall  f1-score   support\n",
      "\n",
      "         No       0.93      0.97      0.95      1144\n",
      "        Yes       0.82      0.63      0.71       230\n",
      "\n",
      "avg / total       0.91      0.91      0.91      1374\n",
      "\n",
      "RandomForest for Bogo 10 #1:\n",
      "             precision    recall  f1-score   support\n",
      "\n",
      "         No       0.94      0.98      0.96      1234\n",
      "        Yes       0.74      0.45      0.56       150\n",
      "\n",
      "avg / total       0.92      0.92      0.92      1384\n",
      "\n",
      "RandomForest for Disc 7 #0:\n",
      "             precision    recall  f1-score   support\n",
      "\n",
      "         No       0.93      0.97      0.95      1155\n",
      "        Yes       0.76      0.59      0.66       213\n",
      "\n",
      "avg / total       0.90      0.91      0.90      1368\n",
      "\n",
      "RandomForest for Disc 10 #0:\n",
      "             precision    recall  f1-score   support\n",
      "\n",
      "         No       0.78      0.87      0.82       858\n",
      "        Yes       0.70      0.57      0.63       478\n",
      "\n",
      "avg / total       0.75      0.76      0.75      1336\n",
      "\n",
      "RandomForest for Disc 10 #1:\n",
      "             precision    recall  f1-score   support\n",
      "\n",
      "         No       0.92      0.96      0.94      1102\n",
      "        Yes       0.82      0.67      0.74       278\n",
      "\n",
      "avg / total       0.90      0.91      0.90      1380\n",
      "\n",
      "RandomForest for Disc 20 #0:\n",
      "             precision    recall  f1-score   support\n",
      "\n",
      "         No       0.76      0.78      0.77       724\n",
      "        Yes       0.73      0.70      0.71       598\n",
      "\n",
      "avg / total       0.74      0.74      0.74      1322\n",
      "\n",
      "RandomForest for Info #0:\n",
      "             precision    recall  f1-score   support\n",
      "\n",
      "         No       0.80      0.85      0.83       844\n",
      "        Yes       0.71      0.64      0.67       485\n",
      "\n",
      "avg / total       0.77      0.77      0.77      1329\n",
      "\n",
      "RandomForest for Info #1:\n",
      "             precision    recall  f1-score   support\n",
      "\n",
      "         No       0.90      0.94      0.92      1008\n",
      "        Yes       0.81      0.73      0.77       369\n",
      "\n",
      "avg / total       0.88      0.88      0.88      1377\n",
      "\n"
     ]
    }
   ],
   "source": [
    "pre_list =[]\n",
    "#best_params_dict ={}\n",
    "def train_and_predict(offer, cleaned_timings = cleaned_timings, preprocessed_profile = preprocessed_profile, clf =clf,\n",
    "                      clf_2 =clf_2):\n",
    "    '''\n",
    "    Trains the classifier and makes predictions for the one offer in the dataset.\n",
    "    offer - one of the ten offers in the portfolio file\n",
    "    \n",
    "    inputs\n",
    "    cleaned_master - the master list of 'decision' labels for user-offer combos cleaned of users with missing data.\n",
    "    preprocessed_profile - the profile with missing data removed and \n",
    "    clf - the classifier we are testing\n",
    "    clf_2 - a dummy classifier for comparison\n",
    "    \n",
    "    outputs\n",
    "    \n",
    "    '''\n",
    "    \n",
    "    offer_set = cleaned_timings[cleaned_timings['offer id'] == offer]\n",
    "   \n",
    "    X =pd .DataFrame(offer_set['person']).merge(preprocessed_profile, left_on = 'person', right_on = 'id')\n",
    "    \n",
    "    X.drop('person', axis = 1, inplace = True)\n",
    "    \n",
    "    y = offer_set.set_index('person')['decision']\n",
    "    \n",
    "    X_train, X_test, y_train, y_test = train_test_split(X,y)\n",
    "    \n",
    "    gs = cv.fit(X_train, y_train)\n",
    "    best = gs.best_estimator_\n",
    "    preds = best.predict(X_test)\n",
    "    best_params_dict[offer] = gs.best_params_\n",
    "    \n",
    "    #pipeline.fit(X_train, y_train)\n",
    "    #preds = pipeline.predict(X_test)\n",
    "    acc = classification_report(y_test, preds)\n",
    "    \n",
    "    #clf_2.fit(X_train, y_train)\n",
    "    #preds_2 = clf_2.predict(X_test)\n",
    "    #acc_2 = classification_report(y_test, preds_2)\n",
    "\n",
    "    print ('RandomForest for {} #{}:\\n{}'.format(offer_labels[offer][0],offer_labels[offer][1],acc ))\n",
    "    #print ('Dummy for {} #{}:\\n{}'.format(offer_labels[offer][0],offer_labels[offer][1],acc_2))\n",
    "    pre = precision_score(y_test, preds, pos_label = 'Yes')\n",
    "    pre_list.append(pre)\n",
    "\n",
    "for offer in list(offer_labels.keys()):\n",
    "\n",
    "    train_and_predict(offer)\n",
    "\n",
    "\n",
    "#log.loc[len(log)] = pre_list\n"
   ]
  },
  {
   "cell_type": "code",
   "execution_count": 225,
   "metadata": {},
   "outputs": [],
   "source": [
    "#log.to_csv('log')"
   ]
  },
  {
   "cell_type": "code",
   "execution_count": 220,
   "metadata": {},
   "outputs": [],
   "source": [
    "best_params_df = pd.DataFrame(columns = [portfolio['id']])\n",
    "for offer_id in portfolio['id']:\n",
    "    best_params_df[offer_id] = pd.Series(best_params_dict[offer_id])\n",
    "    "
   ]
  },
  {
   "cell_type": "code",
   "execution_count": 222,
   "metadata": {},
   "outputs": [
    {
     "data": {
      "text/html": [
       "<div>\n",
       "<style scoped>\n",
       "    .dataframe tbody tr th:only-of-type {\n",
       "        vertical-align: middle;\n",
       "    }\n",
       "\n",
       "    .dataframe tbody tr th {\n",
       "        vertical-align: top;\n",
       "    }\n",
       "\n",
       "    .dataframe thead th {\n",
       "        text-align: right;\n",
       "    }\n",
       "</style>\n",
       "<table border=\"1\" class=\"dataframe\">\n",
       "  <thead>\n",
       "    <tr style=\"text-align: right;\">\n",
       "      <th></th>\n",
       "      <th>clf__max_depth</th>\n",
       "      <th>clf__min_samples_leaf</th>\n",
       "      <th>clf__min_samples_split</th>\n",
       "    </tr>\n",
       "    <tr>\n",
       "      <th>id</th>\n",
       "      <th></th>\n",
       "      <th></th>\n",
       "      <th></th>\n",
       "    </tr>\n",
       "  </thead>\n",
       "  <tbody>\n",
       "    <tr>\n",
       "      <th>ae264e3637204a6fb9bb56bc8210ddfd</th>\n",
       "      <td>75.0</td>\n",
       "      <td>1.0</td>\n",
       "      <td>3.0</td>\n",
       "    </tr>\n",
       "    <tr>\n",
       "      <th>4d5c57ea9a6940dd891ad53e9dbe8da0</th>\n",
       "      <td>25.0</td>\n",
       "      <td>1.0</td>\n",
       "      <td>3.0</td>\n",
       "    </tr>\n",
       "    <tr>\n",
       "      <th>3f207df678b143eea3cee63160fa8bed</th>\n",
       "      <td>100.0</td>\n",
       "      <td>5.0</td>\n",
       "      <td>10.0</td>\n",
       "    </tr>\n",
       "    <tr>\n",
       "      <th>9b98b8c7a33c4b65b9aebfe6a799e6d9</th>\n",
       "      <td>25.0</td>\n",
       "      <td>2.0</td>\n",
       "      <td>2.0</td>\n",
       "    </tr>\n",
       "    <tr>\n",
       "      <th>0b1e1539f2cc45b7b9fa7c272da2e1d7</th>\n",
       "      <td>75.0</td>\n",
       "      <td>1.0</td>\n",
       "      <td>2.0</td>\n",
       "    </tr>\n",
       "    <tr>\n",
       "      <th>2298d6c36e964ae4a3e7e9706d1fb8c2</th>\n",
       "      <td>75.0</td>\n",
       "      <td>1.0</td>\n",
       "      <td>2.0</td>\n",
       "    </tr>\n",
       "    <tr>\n",
       "      <th>fafdcd668e3743c1bb461111dcafc2a4</th>\n",
       "      <td>75.0</td>\n",
       "      <td>1.0</td>\n",
       "      <td>2.0</td>\n",
       "    </tr>\n",
       "    <tr>\n",
       "      <th>5a8bc65990b245e5a138643cd4eb9837</th>\n",
       "      <td>NaN</td>\n",
       "      <td>2.0</td>\n",
       "      <td>3.0</td>\n",
       "    </tr>\n",
       "    <tr>\n",
       "      <th>f19421c1d4aa40978ebb69ca19b0e20d</th>\n",
       "      <td>25.0</td>\n",
       "      <td>1.0</td>\n",
       "      <td>3.0</td>\n",
       "    </tr>\n",
       "    <tr>\n",
       "      <th>2906b810c7d4411798c6938adc9daaa5</th>\n",
       "      <td>NaN</td>\n",
       "      <td>5.0</td>\n",
       "      <td>2.0</td>\n",
       "    </tr>\n",
       "  </tbody>\n",
       "</table>\n",
       "</div>"
      ],
      "text/plain": [
       "                                  clf__max_depth  clf__min_samples_leaf  \\\n",
       "id                                                                        \n",
       "ae264e3637204a6fb9bb56bc8210ddfd            75.0                    1.0   \n",
       "4d5c57ea9a6940dd891ad53e9dbe8da0            25.0                    1.0   \n",
       "3f207df678b143eea3cee63160fa8bed           100.0                    5.0   \n",
       "9b98b8c7a33c4b65b9aebfe6a799e6d9            25.0                    2.0   \n",
       "0b1e1539f2cc45b7b9fa7c272da2e1d7            75.0                    1.0   \n",
       "2298d6c36e964ae4a3e7e9706d1fb8c2            75.0                    1.0   \n",
       "fafdcd668e3743c1bb461111dcafc2a4            75.0                    1.0   \n",
       "5a8bc65990b245e5a138643cd4eb9837             NaN                    2.0   \n",
       "f19421c1d4aa40978ebb69ca19b0e20d            25.0                    1.0   \n",
       "2906b810c7d4411798c6938adc9daaa5             NaN                    5.0   \n",
       "\n",
       "                                  clf__min_samples_split  \n",
       "id                                                        \n",
       "ae264e3637204a6fb9bb56bc8210ddfd                     3.0  \n",
       "4d5c57ea9a6940dd891ad53e9dbe8da0                     3.0  \n",
       "3f207df678b143eea3cee63160fa8bed                    10.0  \n",
       "9b98b8c7a33c4b65b9aebfe6a799e6d9                     2.0  \n",
       "0b1e1539f2cc45b7b9fa7c272da2e1d7                     2.0  \n",
       "2298d6c36e964ae4a3e7e9706d1fb8c2                     2.0  \n",
       "fafdcd668e3743c1bb461111dcafc2a4                     2.0  \n",
       "5a8bc65990b245e5a138643cd4eb9837                     3.0  \n",
       "f19421c1d4aa40978ebb69ca19b0e20d                     3.0  \n",
       "2906b810c7d4411798c6938adc9daaa5                     2.0  "
      ]
     },
     "execution_count": 222,
     "metadata": {},
     "output_type": "execute_result"
    }
   ],
   "source": [
    "best_params_df.transpose()"
   ]
  },
  {
   "cell_type": "code",
   "execution_count": 223,
   "metadata": {},
   "outputs": [],
   "source": [
    "best_params_df.to_csv('best_params.csv')"
   ]
  },
  {
   "cell_type": "code",
   "execution_count": 47,
   "metadata": {},
   "outputs": [
    {
     "data": {
      "text/plain": [
       "array([ 0.2737189 ,  0.30401286,  0.40818142,  0.00628641,  0.00546661,\n",
       "        0.00233381])"
      ]
     },
     "execution_count": 47,
     "metadata": {},
     "output_type": "execute_result"
    }
   ],
   "source": [
    "clf.feature_importances_"
   ]
  }
 ],
 "metadata": {
  "kernelspec": {
   "display_name": "Python 3",
   "language": "python",
   "name": "python3"
  },
  "language_info": {
   "codemirror_mode": {
    "name": "ipython",
    "version": 3
   },
   "file_extension": ".py",
   "mimetype": "text/x-python",
   "name": "python",
   "nbconvert_exporter": "python",
   "pygments_lexer": "ipython3",
   "version": "3.6.3"
  }
 },
 "nbformat": 4,
 "nbformat_minor": 2
}
